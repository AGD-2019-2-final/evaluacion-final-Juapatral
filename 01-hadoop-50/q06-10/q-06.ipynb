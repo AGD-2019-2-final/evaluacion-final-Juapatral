{
 "cells": [
  {
   "cell_type": "code",
   "execution_count": 22,
   "metadata": {},
   "outputs": [
    {
     "name": "stdout",
     "output_type": "stream",
     "text": [
      "Overwriting mapper.py\n"
     ]
    }
   ],
   "source": [
    "%%writefile mapper.py\n",
    "#! /usr/bin/env python\n",
    "import sys\n",
    "\n",
    "for line in sys.stdin:\n",
    "    line = line.strip()\n",
    "    line = line.split('  ')\n",
    "    letter = line[0]\n",
    "    number = line[2]\n",
    "    \n",
    "    sys.stdout.write(\"{},{}\\n\".format(letter, number))"
   ]
  },
  {
   "cell_type": "code",
   "execution_count": 23,
   "metadata": {},
   "outputs": [],
   "source": [
    "!chmod +x mapper.py"
   ]
  },
  {
   "cell_type": "code",
   "execution_count": 24,
   "metadata": {},
   "outputs": [
    {
     "name": "stdout",
     "output_type": "stream",
     "text": [
      "B, 14.1\n",
      "E, 12.2\n",
      "E, 17.0\n",
      "C, 13.8\n",
      "E, 16.9\n",
      "A, 14.8\n",
      "B, 12.1\n",
      "E, 13.2\n",
      "E, 11.3\n",
      "E, 16.4\n"
     ]
    }
   ],
   "source": [
    "## la salida de la función anterior es:\n",
    "!cat ./data.csv| ./mapper.py | head"
   ]
  },
  {
   "cell_type": "code",
   "execution_count": 33,
   "metadata": {},
   "outputs": [
    {
     "name": "stdout",
     "output_type": "stream",
     "text": [
      "Overwriting reducer.py\n"
     ]
    }
   ],
   "source": [
    "%%writefile reducer.py\n",
    "#! /usr/bin/env python\n",
    "import sys\n",
    "#\n",
    "#  >>> Escriba el codigo del reducer a partir de este punto <<<\n",
    "#\n",
    "curkey = None\n",
    "total = 0\n",
    "\n",
    "for line in sys.stdin:\n",
    "\n",
    "    key, val = line.split(\",\")\n",
    "    val = float(val)\n",
    "    tipo = key\n",
    "\n",
    "    if key == curkey:\n",
    "        \n",
    "        if val > total:\n",
    "            max = val\n",
    "        if val <total:\n",
    "            min = val\n",
    "    else:\n",
    "        \n",
    "        if curkey is not None:\n",
    "            \n",
    "            sys.stdout.write(\"{}\\t{}\\t{}\\n\".format(curkey, max, min))\n",
    "\n",
    "        curkey = key\n",
    "        max = val\n",
    "        min = val \n",
    "\n",
    "sys.stdout.write(\"{}\\t{}\\t{}\\n\".format(curkey, max, min))"
   ]
  },
  {
   "cell_type": "code",
   "execution_count": 34,
   "metadata": {},
   "outputs": [
    {
     "name": "stdout",
     "output_type": "stream",
     "text": [
      "A\t18.4\t10.7\n",
      "B\t17.0\t10.7\n",
      "C\t15.3\t10.2\n",
      "D\t15.1\t15.1\n",
      "E\t18.8\t10.5\n"
     ]
    }
   ],
   "source": [
    "cat data.csv | python3 mapper.py | sort |  python3 reducer.py"
   ]
  },
  {
   "cell_type": "code",
   "execution_count": null,
   "metadata": {},
   "outputs": [],
   "source": []
  },
  {
   "cell_type": "code",
   "execution_count": null,
   "metadata": {},
   "outputs": [],
   "source": []
  }
 ],
 "metadata": {
  "kernelspec": {
   "display_name": "Python 3",
   "language": "python",
   "name": "python3"
  },
  "language_info": {
   "codemirror_mode": {
    "name": "ipython",
    "version": 3
   },
   "file_extension": ".py",
   "mimetype": "text/x-python",
   "name": "python",
   "nbconvert_exporter": "python",
   "pygments_lexer": "ipython3",
   "version": "3.7.4"
  }
 },
 "nbformat": 4,
 "nbformat_minor": 4
}
